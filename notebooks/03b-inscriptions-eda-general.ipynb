{
 "cells": [
  {
   "cell_type": "markdown",
   "metadata": {},
   "source": [
    "# Project Inscriptions -- Exploratory Data Analysis\n",
    "\n",
    "**[Johnnatan Messias](https://johnnatan-messias.github.io), February 2025**\n"
   ]
  },
  {
   "cell_type": "code",
   "execution_count": 1,
   "metadata": {},
   "outputs": [],
   "source": [
    "import os\n",
    "import polars as pl"
   ]
  },
  {
   "cell_type": "code",
   "execution_count": 2,
   "metadata": {},
   "outputs": [],
   "source": [
    "import sys\n",
    "code_dir = os.path.realpath(os.path.join(os.getcwd(), \"..\", \"src\"))\n",
    "sys.path.append(code_dir)"
   ]
  },
  {
   "cell_type": "code",
   "execution_count": 3,
   "metadata": {},
   "outputs": [],
   "source": [
    "from plot_utils import get_plotly_layout\n",
    "from plot_utils import colors\n",
    "width, height = 800, 450"
   ]
  },
  {
   "cell_type": "code",
   "execution_count": 4,
   "metadata": {},
   "outputs": [],
   "source": [
    "# Existing dataset dir\n",
    "data_dir = os.path.realpath(os.path.join(os.getcwd(), \"..\", \"data\"))\n",
    "plots_dir = os.path.realpath(os.path.join(os.getcwd(), \"..\", \"plots\"))\n",
    "\n",
    "# Existing plots dir\n",
    "os.makedirs(data_dir, exist_ok=True)\n",
    "os.makedirs(plots_dir, exist_ok=True)"
   ]
  },
  {
   "cell_type": "markdown",
   "metadata": {},
   "source": [
    "## Exploratory Data Analysis\n"
   ]
  },
  {
   "cell_type": "code",
   "execution_count": 5,
   "metadata": {},
   "outputs": [],
   "source": [
    "# Define the chain variables\n",
    "chains = [\n",
    "    'Arbitrum',\n",
    "    'Base',\n",
    "    'Ethereum',\n",
    "    # 'BSC',\n",
    "    # 'Fantom',\n",
    "    'Optimism',\n",
    "    'ZKsync Era'\n",
    "]\n",
    "\n",
    "plot_settings = {\n",
    "    'Arbitrum': {'color': colors['blue'], 'label': 'Arbitrum', 'style': 'solid', 'width': 4, 'marker_symbol': 'circle'},\n",
    "    'Base': {'color': colors['red'], 'label': 'Base', 'style': 'dash', 'width': 3.5, 'marker_symbol': 'diamond'},\n",
    "    'Ethereum': {'color': colors['green'], 'label': 'Ethereum', 'style': 'dot', 'width': 3, 'marker_symbol': 'square'},\n",
    "    'Optimism': {'color': colors['grey'], 'label': 'Optimism', 'style': 'dashdot', 'width': 2.5, 'marker_symbol': 'triangle-up'},\n",
    "    'ZKsync Era': {'color': colors['pink'], 'label': 'zkSync', 'style': 'solid', 'width': 2, 'marker_symbol': 'cross'},\n",
    "    'Fantom': {'color': colors['brown'], 'label': 'Fantom', 'style': 'dash', 'width': 1.5, 'marker_symbol': 'star'},\n",
    "}"
   ]
  },
  {
   "cell_type": "code",
   "execution_count": 6,
   "metadata": {},
   "outputs": [],
   "source": [
    "from datetime import datetime\n",
    "\n",
    "start_date = datetime(2023, 11, 1)\n",
    "end_date = datetime(2024, 2, 1)\n",
    "\n",
    "\n",
    "def process_inscriptions(chain):\n",
    "    file_fir = os.path.join(data_dir, \"chains\", chain+\"_inscriptions.parquet\")\n",
    "    inscriptions_df = pl.scan_parquet(file_fir).collect(new_streaming=True)\n",
    "\n",
    "    inscriptions_parsed = (inscriptions_df\n",
    "                           .filter(pl.col('decoded_input_data').str.starts_with('data:,{'))\n",
    "                           .with_columns(pl.col('decoded_input_data').str.slice(6).alias('decoded_input_data'))\n",
    "                           .with_columns([\n",
    "                               pl.col('decoded_input_data').str.json_path_match(\n",
    "                                   r\"$.p\").alias('p'),\n",
    "                               pl.col('decoded_input_data').str.json_path_match(\n",
    "                                   r\"$.op\").alias('op'),\n",
    "                               pl.col('decoded_input_data').str.json_path_match(\n",
    "                                   r\"$.tick\").alias('tick'),\n",
    "                               pl.col('decoded_input_data').str.json_path_match(\n",
    "                                   r\"$.amt\").alias('amt'),\n",
    "                               pl.col('decoded_input_data').str.json_path_match(\n",
    "                                   r\"$.tx\").alias('tx'),\n",
    "                               pl.col('decoded_input_data').str.json_path_match(\n",
    "                                   r\"$.price\").alias('price'),\n",
    "\n",
    "                           ])\n",
    "                           .select(\n",
    "                               ['p', 'op', 'tick', 'amt']).drop_nulls())\n",
    "\n",
    "    return inscriptions_parsed"
   ]
  },
  {
   "cell_type": "code",
   "execution_count": 7,
   "metadata": {},
   "outputs": [],
   "source": [
    "# Initialize an empty dictionary to store the results\n",
    "inscriptions_groups_dict = {}\n",
    "\n",
    "# Loop over each chain, process the inscriptions, and store the result in the dictionary\n",
    "for chain in chains:\n",
    "    if chain == 'ZKsync Era':\n",
    "        chain = 'ZKsync'\n",
    "    inscriptions_group_dict = process_inscriptions(chain.lower())\n",
    "    inscriptions_groups_dict[chain] = inscriptions_group_dict"
   ]
  },
  {
   "cell_type": "code",
   "execution_count": 8,
   "metadata": {},
   "outputs": [],
   "source": [
    "def func_counts(data, column, top=4):\n",
    "    value_counts = data[column].value_counts(sort=True)\n",
    "    top_elements = value_counts.head(top)[column]\n",
    "    value_counts = value_counts.with_columns(pl.when(pl.col(column).is_in(\n",
    "        top_elements)).then(column).otherwise(pl.lit('Others')).alias(column))\n",
    "    value_counts = value_counts.group_by(\n",
    "        column).agg(pl.sum('count').alias('count'))\n",
    "    value_counts = value_counts.with_columns((pl.col('count').truediv(\n",
    "        value_counts['count'].sum()) * 100).alias('proportion'))\n",
    "    return value_counts.sort('count', descending=True)\n",
    "\n",
    "\n",
    "def get_top_protocols(data):\n",
    "    value_counts = func_counts(data, 'p')\n",
    "    return value_counts\n",
    "\n",
    "\n",
    "def get_top_operations(data):\n",
    "    value_counts = func_counts(data, 'op')\n",
    "    return value_counts\n",
    "\n",
    "\n",
    "def get_top_names(data):\n",
    "    data = data.with_columns(\n",
    "        (pl.col('p') + \" \" + pl.col('tick')).alias('name'))\n",
    "    value_counts = func_counts(data, 'name')\n",
    "    return value_counts"
   ]
  },
  {
   "cell_type": "code",
   "execution_count": 9,
   "metadata": {},
   "outputs": [
    {
     "data": {
      "application/vnd.plotly.v1+json": {
       "config": {
        "plotlyServerURL": "https://plot.ly"
       },
       "data": [
        {
         "marker": {
          "color": "#42bbf1"
         },
         "name": "Top Protocols - Arbitrum",
         "text": [
          74.16,
          15.23,
          5.84,
          3.82,
          0.94
         ],
         "textposition": "auto",
         "type": "bar",
         "x": [
          "fair-20",
          "vims-20",
          "layer2-20",
          "arc-20",
          "Others"
         ],
         "xaxis": "x",
         "y": [
          74.16348986539433,
          15.230058023057783,
          5.840244863606813,
          3.8242541201447633,
          0.9419531277963231
         ],
         "yaxis": "y"
        },
        {
         "marker": {
          "color": "#42bbf1"
         },
         "name": "Top Operations - Arbitrum",
         "text": [
          94.11,
          5.71,
          0.14,
          0.03,
          0
         ],
         "textposition": "auto",
         "type": "bar",
         "x": [
          "mint",
          "claim",
          "list",
          "transfer",
          "Others"
         ],
         "xaxis": "x6",
         "y": [
          94.11318153991476,
          5.710413476853023,
          0.14402734979551682,
          0.03204252029609171,
          0.0003351131406133312
         ],
         "yaxis": "y6"
        },
        {
         "marker": {
          "color": "#42bbf1"
         },
         "name": "Top Tokens - Arbitrum",
         "text": [
          74.16,
          15.23,
          5.84,
          2.13,
          2.64
         ],
         "textposition": "auto",
         "type": "bar",
         "x": [
          "fair-20 fair",
          "vims-20 vims",
          "layer2-20 $L2",
          "arc-20 arbs",
          "Others"
         ],
         "xaxis": "x11",
         "y": [
          74.16196403109451,
          15.229109724170515,
          5.840209213272705,
          2.1304354460149133,
          2.6382815854473627
         ],
         "yaxis": "y11"
        },
        {
         "marker": {
          "color": "#ee443a"
         },
         "name": "Top Protocols - Base",
         "text": [
          89.23,
          9.82,
          0.54,
          0.07,
          0.34
         ],
         "textposition": "auto",
         "type": "bar",
         "x": [
          "layer2-20",
          "base-20",
          "nirc-100",
          "brc-20",
          "Others"
         ],
         "xaxis": "x2",
         "y": [
          89.22659089437288,
          9.821673042249266,
          0.5385255987120832,
          0.07305315611220875,
          0.3401573085535816
         ],
         "yaxis": "y2"
        },
        {
         "marker": {
          "color": "#ee443a"
         },
         "name": "Top Operations - Base",
         "text": [
          88.11,
          11.88,
          0.01,
          0,
          0
         ],
         "textposition": "auto",
         "type": "bar",
         "x": [
          "claim",
          "mint",
          "deploy",
          "transfer",
          "Others"
         ],
         "xaxis": "x7",
         "y": [
          88.11062724598692,
          11.878920358426278,
          0.008748200654183629,
          0.0009089039640710263,
          0.0007952909685621481
         ],
         "yaxis": "y7"
        },
        {
         "marker": {
          "color": "#ee443a"
         },
         "name": "Top Tokens - Base",
         "text": [
          89.23,
          8.96,
          0.54,
          0.36,
          0.91
         ],
         "textposition": "auto",
         "type": "bar",
         "x": [
          "layer2-20 $L2",
          "base-20 base",
          "nirc-100 fcci",
          "base-20 bbtx",
          "Others"
         ],
         "xaxis": "x12",
         "y": [
          89.22647728137736,
          8.961963505233584,
          0.5385255987120832,
          0.36049403474967084,
          0.9125395799273104
         ],
         "yaxis": "y12"
        },
        {
         "marker": {
          "color": "#50be61"
         },
         "name": "Top Protocols - Ethereum",
         "text": [
          93.28,
          1.54,
          1.38,
          0.71,
          3.1
         ],
         "textposition": "auto",
         "type": "bar",
         "x": [
          "erc-20",
          "terc-20",
          "erc-cash",
          "brc-20",
          "Others"
         ],
         "xaxis": "x3",
         "y": [
          93.27514872131265,
          1.53595941420202,
          1.3791588557260337,
          0.7050759328745565,
          3.1046570758847296
         ],
         "yaxis": "y3"
        },
        {
         "marker": {
          "color": "#50be61"
         },
         "name": "Top Operations - Ethereum",
         "text": [
          99.81,
          0.11,
          0.03,
          0.02,
          0.03
         ],
         "textposition": "auto",
         "type": "bar",
         "x": [
          "mint",
          "claim",
          "list",
          "transfer",
          "Others"
         ],
         "xaxis": "x8",
         "y": [
          99.8069406288271,
          0.11181555849103157,
          0.02837515383666383,
          0.024102331095617945,
          0.02876632774957648
         ],
         "yaxis": "y8"
        },
        {
         "marker": {
          "color": "#50be61"
         },
         "name": "Top Tokens - Ethereum",
         "text": [
          32.62,
          3.14,
          1.74,
          1.52,
          60.98
         ],
         "textposition": "auto",
         "type": "bar",
         "x": [
          "erc-20 nodes",
          "erc-20 eths",
          "erc-20 etfDay",
          "terc-20 terc",
          "Others"
         ],
         "xaxis": "x13",
         "y": [
          32.618548263338276,
          3.143142570855136,
          1.7434320395506915,
          1.5179955045090314,
          60.976881621746855
         ],
         "yaxis": "y13"
        },
        {
         "marker": {
          "color": "#b7b7b7"
         },
         "name": "Top Protocols - Optimism",
         "text": [
          81.86,
          9.6,
          4.72,
          1.2,
          2.62
         ],
         "textposition": "auto",
         "type": "bar",
         "x": [
          "layer2-20",
          "osc-20",
          "opt-20",
          "op20",
          "Others"
         ],
         "xaxis": "x4",
         "y": [
          81.864720037539,
          9.598370938461475,
          4.716590079250533,
          1.1981290690627424,
          2.6221898756862427
         ],
         "yaxis": "y4"
        },
        {
         "marker": {
          "color": "#b7b7b7"
         },
         "name": "Top Operations - Optimism",
         "text": [
          80.52,
          19.46,
          0.01,
          0.01,
          0
         ],
         "textposition": "auto",
         "type": "bar",
         "x": [
          "claim",
          "mint",
          "deploy",
          "list",
          "Others"
         ],
         "xaxis": "x9",
         "y": [
          80.52294681198894,
          19.457900633812738,
          0.009371071161315123,
          0.005540560321653467,
          0.0042409227153396905
         ],
         "yaxis": "y9"
        },
        {
         "marker": {
          "color": "#b7b7b7"
         },
         "name": "Top Tokens - Optimism",
         "text": [
          81.86,
          5.14,
          3.69,
          2.02,
          7.28
         ],
         "textposition": "auto",
         "type": "bar",
         "x": [
          "layer2-20 $L2",
          "osc-20 osct",
          "opt-20 opts",
          "osc-20 opti",
          "Others"
         ],
         "xaxis": "x14",
         "y": [
          81.86458323358045,
          5.139177507240349,
          3.6943224989158288,
          2.020047252087286,
          7.281869508176088
         ],
         "yaxis": "y14"
        },
        {
         "marker": {
          "color": "#ef4793"
         },
         "name": "Top Protocols - ZKsync Era",
         "text": [
          54.73,
          33.7,
          9.48,
          1.51,
          0.59
         ],
         "textposition": "auto",
         "type": "bar",
         "x": [
          "zrc-20",
          "layer2-20",
          "era-20",
          "brc-20",
          "Others"
         ],
         "xaxis": "x5",
         "y": [
          54.72667611292559,
          33.696854628462084,
          9.477813727063188,
          1.5132237237266648,
          0.5854318078224687
         ],
         "yaxis": "y5"
        },
        {
         "marker": {
          "color": "#ef4793"
         },
         "name": "Top Operations - ZKsync Era",
         "text": [
          66.33,
          33.58,
          0.07,
          0.02,
          0.01
         ],
         "textposition": "auto",
         "type": "bar",
         "x": [
          "mint",
          "claim",
          "deploy",
          "list",
          "Others"
         ],
         "xaxis": "x10",
         "y": [
          66.32863970488069,
          33.57557995453283,
          0.06563826265526539,
          0.020716000783765256,
          0.009426077147455365
         ],
         "yaxis": "y10"
        },
        {
         "marker": {
          "color": "#ef4793"
         },
         "name": "Top Tokens - ZKsync Era",
         "text": [
          41.65,
          33.7,
          9.48,
          7.24,
          7.93
         ],
         "textposition": "auto",
         "type": "bar",
         "x": [
          "zrc-20 sync",
          "layer2-20 $L2",
          "era-20 bgnt",
          "zrc-20 zkzk",
          "Others"
         ],
         "xaxis": "x15",
         "y": [
          41.654339459036954,
          33.696237303510365,
          9.475748062801655,
          7.242877776604464,
          7.9307973980465585
         ],
         "yaxis": "y15"
        }
       ],
       "layout": {
        "annotations": [
         {
          "font": {
           "size": 16
          },
          "showarrow": false,
          "text": "Arbitrum",
          "x": 0.096,
          "xanchor": "center",
          "xref": "paper",
          "y": 1,
          "yanchor": "bottom",
          "yref": "paper"
         },
         {
          "font": {
           "size": 16
          },
          "showarrow": false,
          "text": "Base",
          "x": 0.29800000000000004,
          "xanchor": "center",
          "xref": "paper",
          "y": 1,
          "yanchor": "bottom",
          "yref": "paper"
         },
         {
          "font": {
           "size": 16
          },
          "showarrow": false,
          "text": "Ethereum",
          "x": 0.5,
          "xanchor": "center",
          "xref": "paper",
          "y": 1,
          "yanchor": "bottom",
          "yref": "paper"
         },
         {
          "font": {
           "size": 16
          },
          "showarrow": false,
          "text": "Optimism",
          "x": 0.7020000000000001,
          "xanchor": "center",
          "xref": "paper",
          "y": 1,
          "yanchor": "bottom",
          "yref": "paper"
         },
         {
          "font": {
           "size": 16
          },
          "showarrow": false,
          "text": "ZKsync Era",
          "x": 0.904,
          "xanchor": "center",
          "xref": "paper",
          "y": 1,
          "yanchor": "bottom",
          "yref": "paper"
         }
        ],
        "barmode": "group",
        "font": {
         "family": "Clear Sans",
         "size": 15
        },
        "height": 1000,
        "margin": {
         "b": 10,
         "l": 10,
         "r": 10,
         "t": 10
        },
        "showlegend": false,
        "template": {
         "data": {
          "bar": [
           {
            "error_x": {
             "color": "rgb(36,36,36)"
            },
            "error_y": {
             "color": "rgb(36,36,36)"
            },
            "marker": {
             "line": {
              "color": "white",
              "width": 0.5
             },
             "pattern": {
              "fillmode": "overlay",
              "size": 10,
              "solidity": 0.2
             }
            },
            "type": "bar"
           }
          ],
          "barpolar": [
           {
            "marker": {
             "line": {
              "color": "white",
              "width": 0.5
             },
             "pattern": {
              "fillmode": "overlay",
              "size": 10,
              "solidity": 0.2
             }
            },
            "type": "barpolar"
           }
          ],
          "carpet": [
           {
            "aaxis": {
             "endlinecolor": "rgb(36,36,36)",
             "gridcolor": "white",
             "linecolor": "white",
             "minorgridcolor": "white",
             "startlinecolor": "rgb(36,36,36)"
            },
            "baxis": {
             "endlinecolor": "rgb(36,36,36)",
             "gridcolor": "white",
             "linecolor": "white",
             "minorgridcolor": "white",
             "startlinecolor": "rgb(36,36,36)"
            },
            "type": "carpet"
           }
          ],
          "choropleth": [
           {
            "colorbar": {
             "outlinewidth": 1,
             "tickcolor": "rgb(36,36,36)",
             "ticks": "outside"
            },
            "type": "choropleth"
           }
          ],
          "contour": [
           {
            "colorbar": {
             "outlinewidth": 1,
             "tickcolor": "rgb(36,36,36)",
             "ticks": "outside"
            },
            "colorscale": [
             [
              0,
              "#440154"
             ],
             [
              0.1111111111111111,
              "#482878"
             ],
             [
              0.2222222222222222,
              "#3e4989"
             ],
             [
              0.3333333333333333,
              "#31688e"
             ],
             [
              0.4444444444444444,
              "#26828e"
             ],
             [
              0.5555555555555556,
              "#1f9e89"
             ],
             [
              0.6666666666666666,
              "#35b779"
             ],
             [
              0.7777777777777778,
              "#6ece58"
             ],
             [
              0.8888888888888888,
              "#b5de2b"
             ],
             [
              1,
              "#fde725"
             ]
            ],
            "type": "contour"
           }
          ],
          "contourcarpet": [
           {
            "colorbar": {
             "outlinewidth": 1,
             "tickcolor": "rgb(36,36,36)",
             "ticks": "outside"
            },
            "type": "contourcarpet"
           }
          ],
          "heatmap": [
           {
            "colorbar": {
             "outlinewidth": 1,
             "tickcolor": "rgb(36,36,36)",
             "ticks": "outside"
            },
            "colorscale": [
             [
              0,
              "#440154"
             ],
             [
              0.1111111111111111,
              "#482878"
             ],
             [
              0.2222222222222222,
              "#3e4989"
             ],
             [
              0.3333333333333333,
              "#31688e"
             ],
             [
              0.4444444444444444,
              "#26828e"
             ],
             [
              0.5555555555555556,
              "#1f9e89"
             ],
             [
              0.6666666666666666,
              "#35b779"
             ],
             [
              0.7777777777777778,
              "#6ece58"
             ],
             [
              0.8888888888888888,
              "#b5de2b"
             ],
             [
              1,
              "#fde725"
             ]
            ],
            "type": "heatmap"
           }
          ],
          "heatmapgl": [
           {
            "colorbar": {
             "outlinewidth": 1,
             "tickcolor": "rgb(36,36,36)",
             "ticks": "outside"
            },
            "colorscale": [
             [
              0,
              "#440154"
             ],
             [
              0.1111111111111111,
              "#482878"
             ],
             [
              0.2222222222222222,
              "#3e4989"
             ],
             [
              0.3333333333333333,
              "#31688e"
             ],
             [
              0.4444444444444444,
              "#26828e"
             ],
             [
              0.5555555555555556,
              "#1f9e89"
             ],
             [
              0.6666666666666666,
              "#35b779"
             ],
             [
              0.7777777777777778,
              "#6ece58"
             ],
             [
              0.8888888888888888,
              "#b5de2b"
             ],
             [
              1,
              "#fde725"
             ]
            ],
            "type": "heatmapgl"
           }
          ],
          "histogram": [
           {
            "marker": {
             "line": {
              "color": "white",
              "width": 0.6
             },
             "pattern": {
              "fillmode": "overlay",
              "size": 10,
              "solidity": 0.2
             }
            },
            "type": "histogram"
           }
          ],
          "histogram2d": [
           {
            "colorbar": {
             "outlinewidth": 1,
             "tickcolor": "rgb(36,36,36)",
             "ticks": "outside"
            },
            "colorscale": [
             [
              0,
              "#440154"
             ],
             [
              0.1111111111111111,
              "#482878"
             ],
             [
              0.2222222222222222,
              "#3e4989"
             ],
             [
              0.3333333333333333,
              "#31688e"
             ],
             [
              0.4444444444444444,
              "#26828e"
             ],
             [
              0.5555555555555556,
              "#1f9e89"
             ],
             [
              0.6666666666666666,
              "#35b779"
             ],
             [
              0.7777777777777778,
              "#6ece58"
             ],
             [
              0.8888888888888888,
              "#b5de2b"
             ],
             [
              1,
              "#fde725"
             ]
            ],
            "type": "histogram2d"
           }
          ],
          "histogram2dcontour": [
           {
            "colorbar": {
             "outlinewidth": 1,
             "tickcolor": "rgb(36,36,36)",
             "ticks": "outside"
            },
            "colorscale": [
             [
              0,
              "#440154"
             ],
             [
              0.1111111111111111,
              "#482878"
             ],
             [
              0.2222222222222222,
              "#3e4989"
             ],
             [
              0.3333333333333333,
              "#31688e"
             ],
             [
              0.4444444444444444,
              "#26828e"
             ],
             [
              0.5555555555555556,
              "#1f9e89"
             ],
             [
              0.6666666666666666,
              "#35b779"
             ],
             [
              0.7777777777777778,
              "#6ece58"
             ],
             [
              0.8888888888888888,
              "#b5de2b"
             ],
             [
              1,
              "#fde725"
             ]
            ],
            "type": "histogram2dcontour"
           }
          ],
          "mesh3d": [
           {
            "colorbar": {
             "outlinewidth": 1,
             "tickcolor": "rgb(36,36,36)",
             "ticks": "outside"
            },
            "type": "mesh3d"
           }
          ],
          "parcoords": [
           {
            "line": {
             "colorbar": {
              "outlinewidth": 1,
              "tickcolor": "rgb(36,36,36)",
              "ticks": "outside"
             }
            },
            "type": "parcoords"
           }
          ],
          "pie": [
           {
            "automargin": true,
            "type": "pie"
           }
          ],
          "scatter": [
           {
            "fillpattern": {
             "fillmode": "overlay",
             "size": 10,
             "solidity": 0.2
            },
            "type": "scatter"
           }
          ],
          "scatter3d": [
           {
            "line": {
             "colorbar": {
              "outlinewidth": 1,
              "tickcolor": "rgb(36,36,36)",
              "ticks": "outside"
             }
            },
            "marker": {
             "colorbar": {
              "outlinewidth": 1,
              "tickcolor": "rgb(36,36,36)",
              "ticks": "outside"
             }
            },
            "type": "scatter3d"
           }
          ],
          "scattercarpet": [
           {
            "marker": {
             "colorbar": {
              "outlinewidth": 1,
              "tickcolor": "rgb(36,36,36)",
              "ticks": "outside"
             }
            },
            "type": "scattercarpet"
           }
          ],
          "scattergeo": [
           {
            "marker": {
             "colorbar": {
              "outlinewidth": 1,
              "tickcolor": "rgb(36,36,36)",
              "ticks": "outside"
             }
            },
            "type": "scattergeo"
           }
          ],
          "scattergl": [
           {
            "marker": {
             "colorbar": {
              "outlinewidth": 1,
              "tickcolor": "rgb(36,36,36)",
              "ticks": "outside"
             }
            },
            "type": "scattergl"
           }
          ],
          "scattermapbox": [
           {
            "marker": {
             "colorbar": {
              "outlinewidth": 1,
              "tickcolor": "rgb(36,36,36)",
              "ticks": "outside"
             }
            },
            "type": "scattermapbox"
           }
          ],
          "scatterpolar": [
           {
            "marker": {
             "colorbar": {
              "outlinewidth": 1,
              "tickcolor": "rgb(36,36,36)",
              "ticks": "outside"
             }
            },
            "type": "scatterpolar"
           }
          ],
          "scatterpolargl": [
           {
            "marker": {
             "colorbar": {
              "outlinewidth": 1,
              "tickcolor": "rgb(36,36,36)",
              "ticks": "outside"
             }
            },
            "type": "scatterpolargl"
           }
          ],
          "scatterternary": [
           {
            "marker": {
             "colorbar": {
              "outlinewidth": 1,
              "tickcolor": "rgb(36,36,36)",
              "ticks": "outside"
             }
            },
            "type": "scatterternary"
           }
          ],
          "surface": [
           {
            "colorbar": {
             "outlinewidth": 1,
             "tickcolor": "rgb(36,36,36)",
             "ticks": "outside"
            },
            "colorscale": [
             [
              0,
              "#440154"
             ],
             [
              0.1111111111111111,
              "#482878"
             ],
             [
              0.2222222222222222,
              "#3e4989"
             ],
             [
              0.3333333333333333,
              "#31688e"
             ],
             [
              0.4444444444444444,
              "#26828e"
             ],
             [
              0.5555555555555556,
              "#1f9e89"
             ],
             [
              0.6666666666666666,
              "#35b779"
             ],
             [
              0.7777777777777778,
              "#6ece58"
             ],
             [
              0.8888888888888888,
              "#b5de2b"
             ],
             [
              1,
              "#fde725"
             ]
            ],
            "type": "surface"
           }
          ],
          "table": [
           {
            "cells": {
             "fill": {
              "color": "rgb(237,237,237)"
             },
             "line": {
              "color": "white"
             }
            },
            "header": {
             "fill": {
              "color": "rgb(217,217,217)"
             },
             "line": {
              "color": "white"
             }
            },
            "type": "table"
           }
          ]
         },
         "layout": {
          "annotationdefaults": {
           "arrowcolor": "#2a3f5f",
           "arrowhead": 0,
           "arrowwidth": 1
          },
          "autotypenumbers": "strict",
          "coloraxis": {
           "colorbar": {
            "outlinewidth": 1,
            "tickcolor": "rgb(36,36,36)",
            "ticks": "outside"
           }
          },
          "colorscale": {
           "diverging": [
            [
             0,
             "rgb(103,0,31)"
            ],
            [
             0.1,
             "rgb(178,24,43)"
            ],
            [
             0.2,
             "rgb(214,96,77)"
            ],
            [
             0.3,
             "rgb(244,165,130)"
            ],
            [
             0.4,
             "rgb(253,219,199)"
            ],
            [
             0.5,
             "rgb(247,247,247)"
            ],
            [
             0.6,
             "rgb(209,229,240)"
            ],
            [
             0.7,
             "rgb(146,197,222)"
            ],
            [
             0.8,
             "rgb(67,147,195)"
            ],
            [
             0.9,
             "rgb(33,102,172)"
            ],
            [
             1,
             "rgb(5,48,97)"
            ]
           ],
           "sequential": [
            [
             0,
             "#440154"
            ],
            [
             0.1111111111111111,
             "#482878"
            ],
            [
             0.2222222222222222,
             "#3e4989"
            ],
            [
             0.3333333333333333,
             "#31688e"
            ],
            [
             0.4444444444444444,
             "#26828e"
            ],
            [
             0.5555555555555556,
             "#1f9e89"
            ],
            [
             0.6666666666666666,
             "#35b779"
            ],
            [
             0.7777777777777778,
             "#6ece58"
            ],
            [
             0.8888888888888888,
             "#b5de2b"
            ],
            [
             1,
             "#fde725"
            ]
           ],
           "sequentialminus": [
            [
             0,
             "#440154"
            ],
            [
             0.1111111111111111,
             "#482878"
            ],
            [
             0.2222222222222222,
             "#3e4989"
            ],
            [
             0.3333333333333333,
             "#31688e"
            ],
            [
             0.4444444444444444,
             "#26828e"
            ],
            [
             0.5555555555555556,
             "#1f9e89"
            ],
            [
             0.6666666666666666,
             "#35b779"
            ],
            [
             0.7777777777777778,
             "#6ece58"
            ],
            [
             0.8888888888888888,
             "#b5de2b"
            ],
            [
             1,
             "#fde725"
            ]
           ]
          },
          "colorway": [
           "#1F77B4",
           "#FF7F0E",
           "#2CA02C",
           "#D62728",
           "#9467BD",
           "#8C564B",
           "#E377C2",
           "#7F7F7F",
           "#BCBD22",
           "#17BECF"
          ],
          "font": {
           "color": "rgb(36,36,36)"
          },
          "geo": {
           "bgcolor": "white",
           "lakecolor": "white",
           "landcolor": "white",
           "showlakes": true,
           "showland": true,
           "subunitcolor": "white"
          },
          "hoverlabel": {
           "align": "left"
          },
          "hovermode": "closest",
          "mapbox": {
           "style": "light"
          },
          "paper_bgcolor": "white",
          "plot_bgcolor": "white",
          "polar": {
           "angularaxis": {
            "gridcolor": "rgb(232,232,232)",
            "linecolor": "rgb(36,36,36)",
            "showgrid": false,
            "showline": true,
            "ticks": "outside"
           },
           "bgcolor": "white",
           "radialaxis": {
            "gridcolor": "rgb(232,232,232)",
            "linecolor": "rgb(36,36,36)",
            "showgrid": false,
            "showline": true,
            "ticks": "outside"
           }
          },
          "scene": {
           "xaxis": {
            "backgroundcolor": "white",
            "gridcolor": "rgb(232,232,232)",
            "gridwidth": 2,
            "linecolor": "rgb(36,36,36)",
            "showbackground": true,
            "showgrid": false,
            "showline": true,
            "ticks": "outside",
            "zeroline": false,
            "zerolinecolor": "rgb(36,36,36)"
           },
           "yaxis": {
            "backgroundcolor": "white",
            "gridcolor": "rgb(232,232,232)",
            "gridwidth": 2,
            "linecolor": "rgb(36,36,36)",
            "showbackground": true,
            "showgrid": false,
            "showline": true,
            "ticks": "outside",
            "zeroline": false,
            "zerolinecolor": "rgb(36,36,36)"
           },
           "zaxis": {
            "backgroundcolor": "white",
            "gridcolor": "rgb(232,232,232)",
            "gridwidth": 2,
            "linecolor": "rgb(36,36,36)",
            "showbackground": true,
            "showgrid": false,
            "showline": true,
            "ticks": "outside",
            "zeroline": false,
            "zerolinecolor": "rgb(36,36,36)"
           }
          },
          "shapedefaults": {
           "fillcolor": "black",
           "line": {
            "color": "#2a3f5f",
            "width": 0
           },
           "opacity": 0.3
          },
          "ternary": {
           "aaxis": {
            "gridcolor": "rgb(232,232,232)",
            "linecolor": "rgb(36,36,36)",
            "showgrid": false,
            "showline": true,
            "ticks": "outside"
           },
           "baxis": {
            "gridcolor": "rgb(232,232,232)",
            "linecolor": "rgb(36,36,36)",
            "showgrid": false,
            "showline": true,
            "ticks": "outside"
           },
           "bgcolor": "white",
           "caxis": {
            "gridcolor": "rgb(232,232,232)",
            "linecolor": "rgb(36,36,36)",
            "showgrid": false,
            "showline": true,
            "ticks": "outside"
           }
          },
          "title": {
           "x": 0.05
          },
          "xaxis": {
           "automargin": true,
           "gridcolor": "rgb(232,232,232)",
           "linecolor": "rgb(36,36,36)",
           "showgrid": false,
           "showline": true,
           "ticks": "outside",
           "title": {
            "standoff": 15
           },
           "zeroline": false,
           "zerolinecolor": "rgb(36,36,36)",
           "zerolinewidth": 2
          },
          "yaxis": {
           "automargin": true,
           "gridcolor": "rgb(232,232,232)",
           "linecolor": "rgb(36,36,36)",
           "showgrid": false,
           "showline": true,
           "ticks": "outside",
           "title": {
            "standoff": 15
           },
           "zeroline": false,
           "zerolinecolor": "rgb(36,36,36)",
           "zerolinewidth": 2
          }
         }
        },
        "width": 1400,
        "xaxis": {
         "anchor": "y",
         "domain": [
          0,
          0.192
         ],
         "griddash": "dash",
         "minor": {
          "griddash": "dot",
          "ticks": "inside"
         },
         "showgrid": true,
         "tickangle": 90
        },
        "xaxis10": {
         "anchor": "y10",
         "domain": [
          0.808,
          1
         ],
         "tickangle": 90
        },
        "xaxis11": {
         "anchor": "y11",
         "domain": [
          0,
          0.192
         ],
         "tickangle": 90
        },
        "xaxis12": {
         "anchor": "y12",
         "domain": [
          0.202,
          0.394
         ],
         "tickangle": 90
        },
        "xaxis13": {
         "anchor": "y13",
         "domain": [
          0.404,
          0.5960000000000001
         ],
         "tickangle": 90
        },
        "xaxis14": {
         "anchor": "y14",
         "domain": [
          0.6060000000000001,
          0.798
         ],
         "tickangle": 90
        },
        "xaxis15": {
         "anchor": "y15",
         "domain": [
          0.808,
          1
         ],
         "tickangle": 90
        },
        "xaxis2": {
         "anchor": "y2",
         "domain": [
          0.202,
          0.394
         ],
         "tickangle": 90
        },
        "xaxis3": {
         "anchor": "y3",
         "domain": [
          0.404,
          0.5960000000000001
         ],
         "tickangle": 90
        },
        "xaxis4": {
         "anchor": "y4",
         "domain": [
          0.6060000000000001,
          0.798
         ],
         "tickangle": 90
        },
        "xaxis5": {
         "anchor": "y5",
         "domain": [
          0.808,
          1
         ],
         "tickangle": 90
        },
        "xaxis6": {
         "anchor": "y6",
         "domain": [
          0,
          0.192
         ],
         "tickangle": 90
        },
        "xaxis7": {
         "anchor": "y7",
         "domain": [
          0.202,
          0.394
         ],
         "tickangle": 90
        },
        "xaxis8": {
         "anchor": "y8",
         "domain": [
          0.404,
          0.5960000000000001
         ],
         "tickangle": 90
        },
        "xaxis9": {
         "anchor": "y9",
         "domain": [
          0.6060000000000001,
          0.798
         ],
         "tickangle": 90
        },
        "yaxis": {
         "anchor": "x",
         "domain": [
          0.7133333333333334,
          1
         ],
         "griddash": "dash",
         "minor": {
          "griddash": "dot",
          "ticks": "inside"
         },
         "range": [
          0,
          100
         ],
         "showgrid": true,
         "ticksuffix": "%",
         "title": {
          "text": "Top protocols"
         }
        },
        "yaxis10": {
         "anchor": "x10",
         "domain": [
          0.3566666666666667,
          0.6433333333333333
         ],
         "griddash": "dash",
         "matches": "y6",
         "minor": {
          "griddash": "dot",
          "ticks": "inside"
         },
         "range": [
          0,
          100
         ],
         "showgrid": true,
         "showticklabels": false,
         "ticksuffix": "%"
        },
        "yaxis11": {
         "anchor": "x11",
         "domain": [
          0,
          0.2866666666666667
         ],
         "griddash": "dash",
         "minor": {
          "griddash": "dot",
          "ticks": "inside"
         },
         "range": [
          0,
          100
         ],
         "showgrid": true,
         "ticksuffix": "%",
         "title": {
          "text": "Top tokens"
         }
        },
        "yaxis12": {
         "anchor": "x12",
         "domain": [
          0,
          0.2866666666666667
         ],
         "griddash": "dash",
         "matches": "y11",
         "minor": {
          "griddash": "dot",
          "ticks": "inside"
         },
         "range": [
          0,
          100
         ],
         "showgrid": true,
         "showticklabels": false,
         "ticksuffix": "%"
        },
        "yaxis13": {
         "anchor": "x13",
         "domain": [
          0,
          0.2866666666666667
         ],
         "griddash": "dash",
         "matches": "y11",
         "minor": {
          "griddash": "dot",
          "ticks": "inside"
         },
         "range": [
          0,
          100
         ],
         "showgrid": true,
         "showticklabels": false,
         "ticksuffix": "%"
        },
        "yaxis14": {
         "anchor": "x14",
         "domain": [
          0,
          0.2866666666666667
         ],
         "griddash": "dash",
         "matches": "y11",
         "minor": {
          "griddash": "dot",
          "ticks": "inside"
         },
         "range": [
          0,
          100
         ],
         "showgrid": true,
         "showticklabels": false,
         "ticksuffix": "%"
        },
        "yaxis15": {
         "anchor": "x15",
         "domain": [
          0,
          0.2866666666666667
         ],
         "griddash": "dash",
         "matches": "y11",
         "minor": {
          "griddash": "dot",
          "ticks": "inside"
         },
         "range": [
          0,
          100
         ],
         "showgrid": true,
         "showticklabels": false,
         "ticksuffix": "%"
        },
        "yaxis2": {
         "anchor": "x2",
         "domain": [
          0.7133333333333334,
          1
         ],
         "griddash": "dash",
         "matches": "y",
         "minor": {
          "griddash": "dot",
          "ticks": "inside"
         },
         "range": [
          0,
          100
         ],
         "showgrid": true,
         "showticklabels": false,
         "ticksuffix": "%"
        },
        "yaxis3": {
         "anchor": "x3",
         "domain": [
          0.7133333333333334,
          1
         ],
         "griddash": "dash",
         "matches": "y",
         "minor": {
          "griddash": "dot",
          "ticks": "inside"
         },
         "range": [
          0,
          100
         ],
         "showgrid": true,
         "showticklabels": false,
         "ticksuffix": "%"
        },
        "yaxis4": {
         "anchor": "x4",
         "domain": [
          0.7133333333333334,
          1
         ],
         "griddash": "dash",
         "matches": "y",
         "minor": {
          "griddash": "dot",
          "ticks": "inside"
         },
         "range": [
          0,
          100
         ],
         "showgrid": true,
         "showticklabels": false,
         "ticksuffix": "%"
        },
        "yaxis5": {
         "anchor": "x5",
         "domain": [
          0.7133333333333334,
          1
         ],
         "griddash": "dash",
         "matches": "y",
         "minor": {
          "griddash": "dot",
          "ticks": "inside"
         },
         "range": [
          0,
          100
         ],
         "showgrid": true,
         "showticklabels": false,
         "ticksuffix": "%"
        },
        "yaxis6": {
         "anchor": "x6",
         "domain": [
          0.3566666666666667,
          0.6433333333333333
         ],
         "griddash": "dash",
         "minor": {
          "griddash": "dot",
          "ticks": "inside"
         },
         "range": [
          0,
          100
         ],
         "showgrid": true,
         "ticksuffix": "%",
         "title": {
          "text": "Top operations"
         }
        },
        "yaxis7": {
         "anchor": "x7",
         "domain": [
          0.3566666666666667,
          0.6433333333333333
         ],
         "griddash": "dash",
         "matches": "y6",
         "minor": {
          "griddash": "dot",
          "ticks": "inside"
         },
         "range": [
          0,
          100
         ],
         "showgrid": true,
         "showticklabels": false,
         "ticksuffix": "%"
        },
        "yaxis8": {
         "anchor": "x8",
         "domain": [
          0.3566666666666667,
          0.6433333333333333
         ],
         "griddash": "dash",
         "matches": "y6",
         "minor": {
          "griddash": "dot",
          "ticks": "inside"
         },
         "range": [
          0,
          100
         ],
         "showgrid": true,
         "showticklabels": false,
         "ticksuffix": "%"
        },
        "yaxis9": {
         "anchor": "x9",
         "domain": [
          0.3566666666666667,
          0.6433333333333333
         ],
         "griddash": "dash",
         "matches": "y6",
         "minor": {
          "griddash": "dot",
          "ticks": "inside"
         },
         "range": [
          0,
          100
         ],
         "showgrid": true,
         "showticklabels": false,
         "ticksuffix": "%"
        }
       }
      }
     },
     "metadata": {},
     "output_type": "display_data"
    }
   ],
   "source": [
    "import pandas as pd\n",
    "from plotly.subplots import make_subplots\n",
    "import plotly.graph_objects as go\n",
    "\n",
    "\n",
    "def to_pandas(df):\n",
    "    # Convert to Pandas DataFrame if needed\n",
    "    if isinstance(df, pd.DataFrame):\n",
    "        return df\n",
    "    return df.to_pandas()\n",
    "\n",
    "\n",
    "def move_others_to_end(df, column_name):\n",
    "    # Utility function to move \"Others\" to the end of the DataFrame\n",
    "    df = to_pandas(df)\n",
    "    others_row = df[df[column_name] == 'Others']\n",
    "    other_rows = df[df[column_name] != 'Others']\n",
    "    return pd.concat([other_rows, others_row])\n",
    "\n",
    "\n",
    "# Define the number of rows and columns for subplots\n",
    "num_chains = len(chains)\n",
    "fig = make_subplots(rows=3, cols=num_chains, subplot_titles=chains,\n",
    "                    shared_xaxes=False, shared_yaxes=True, vertical_spacing=0.07, horizontal_spacing=0.01)\n",
    "\n",
    "# for annotation in fig['layout']['annotations']:\n",
    "#     annotation['font'] = dict(size=20)\n",
    "\n",
    "# Loop over each chain to create the plots\n",
    "for i, chain in enumerate(chains):\n",
    "    # Fetch data for the current chain\n",
    "    data = inscriptions_groups_dict[chain if chain !=\n",
    "                                    'ZKsync Era' else 'ZKsync']\n",
    "\n",
    "    # Plot the top protocols\n",
    "    value_counts = get_top_protocols(data)\n",
    "    value_counts = move_others_to_end(value_counts, 'p')\n",
    "    fig.add_trace(go.Bar(\n",
    "        x=value_counts['p'],\n",
    "        y=value_counts['proportion'],\n",
    "        marker_color=plot_settings[chain]['color'],\n",
    "        text=value_counts['proportion'].round(2),\n",
    "        textposition='auto',\n",
    "        name=f'Top Protocols - {chain}',\n",
    "    ), row=1, col=i+1)\n",
    "\n",
    "    # Plot the top operations\n",
    "    value_counts = get_top_operations(data)\n",
    "    value_counts = move_others_to_end(value_counts, 'op')\n",
    "    fig.add_trace(go.Bar(\n",
    "        x=value_counts['op'],\n",
    "        y=value_counts['proportion'],\n",
    "        marker_color=plot_settings[chain]['color'],\n",
    "        text=value_counts['proportion'].round(2),\n",
    "        textposition='auto',\n",
    "        name=f'Top Operations - {chain}'\n",
    "    ), row=2, col=i+1)\n",
    "\n",
    "    # Plot the top names\n",
    "    value_counts = get_top_names(data)\n",
    "    value_counts = move_others_to_end(value_counts, 'name')\n",
    "    fig.add_trace(go.Bar(\n",
    "        x=value_counts['name'],\n",
    "        y=value_counts['proportion'],\n",
    "        marker_color=plot_settings[chain]['color'],\n",
    "        text=value_counts['proportion'].round(2),\n",
    "        textposition='auto',\n",
    "        name=f'Top Tokens - {chain}'\n",
    "    ), row=3, col=i+1)\n",
    "\n",
    "# Update layout for better appearance\n",
    "fig.update_layout(get_plotly_layout(width=1400, height=1000),\n",
    "                  barmode='group', showlegend=False, font=dict(size=15),\n",
    "                  )\n",
    "\n",
    "# Update x-axes and y-axes settings for all subplots\n",
    "for row in range(1, 4):\n",
    "    for col in range(1, num_chains + 1):\n",
    "        fig.update_yaxes(minor_ticks=\"inside\", showgrid=True, griddash='dash',\n",
    "                         minor_griddash=\"dot\", row=row, col=col, ticksuffix=\"%\")\n",
    "        fig.update_xaxes(tickangle=90, row=row, col=col)\n",
    "\n",
    "fig.update_yaxes(range=[0, 100])\n",
    "\n",
    "# Add y-axis labels for each row\n",
    "fig.update_yaxes(title_text=\"Top protocols\", row=1, col=1)\n",
    "fig.update_yaxes(title_text=\"Top operations\", row=2, col=1)\n",
    "fig.update_yaxes(title_text=\"Top tokens\", row=3, col=1)\n",
    "\n",
    "# Save the figure\n",
    "file_dir = os.path.realpath(os.path.join(plots_dir, \"all.pdf\"))\n",
    "fig.write_image(file_dir, scale=1)\n",
    "\n",
    "# Show the figure\n",
    "fig.show()"
   ]
  }
 ],
 "metadata": {
  "kernelspec": {
   "display_name": "base",
   "language": "python",
   "name": "python3"
  },
  "language_info": {
   "codemirror_mode": {
    "name": "ipython",
    "version": 3
   },
   "file_extension": ".py",
   "mimetype": "text/x-python",
   "name": "python",
   "nbconvert_exporter": "python",
   "pygments_lexer": "ipython3",
   "version": "3.12.9"
  },
  "orig_nbformat": 4
 },
 "nbformat": 4,
 "nbformat_minor": 2
}
