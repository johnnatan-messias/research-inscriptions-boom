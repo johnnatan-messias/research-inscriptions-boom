{
 "cells": [
  {
   "cell_type": "markdown",
   "metadata": {},
   "source": [
    "# Project Inscriptions -- Data set parser\n",
    "\n",
    "**[Johnnatan Messias](https://johnnatan-messias.github.io/), February 2025**\n"
   ]
  },
  {
   "cell_type": "code",
   "execution_count": null,
   "metadata": {},
   "outputs": [],
   "source": [
    "import polars as pl\n",
    "import pandas as pd\n",
    "from tqdm.notebook import tqdm"
   ]
  },
  {
   "cell_type": "code",
   "execution_count": null,
   "metadata": {},
   "outputs": [],
   "source": [
    "import sys\n",
    "import os\n",
    "code_dir = os.path.realpath(os.path.join(os.getcwd(), \"..\", \"src\"))\n",
    "\n",
    "sys.path.append(code_dir)"
   ]
  },
  {
   "cell_type": "code",
   "execution_count": null,
   "metadata": {},
   "outputs": [
    {
     "name": "stdout",
     "output_type": "stream",
     "text": [
      "/Users/johnnatanmessias/research-projects/research-proj-inscriptions/data/\n"
     ]
    }
   ],
   "source": [
    "data_dir = os.path.realpath(os.path.join(os.getcwd(), \"..\", \"data\")) + os.sep\n",
    "print(data_dir)"
   ]
  },
  {
   "cell_type": "code",
   "execution_count": 4,
   "metadata": {},
   "outputs": [],
   "source": [
    "schema = pl.Schema([('block_number', pl.Int64),\n",
    "                    ('tx_hash', pl.String),\n",
    "                    ('tx_input_data', pl.String),\n",
    "                    ('issuer', pl.String),\n",
    "                    ('receiver', pl.String),\n",
    "                    ('timestamp', pl.Datetime(time_unit='us', time_zone=None)),\n",
    "                    ('gas_used', pl.Int64),\n",
    "                    ('gas_effective_price', pl.Int64),\n",
    "                    ('fees', pl.Float64),\n",
    "                    ('tx_status', pl.Int64)])"
   ]
  },
  {
   "cell_type": "code",
   "execution_count": 5,
   "metadata": {},
   "outputs": [],
   "source": [
    "columns_renamed = {\n",
    "    'tx_hash': 'tx_hash',\n",
    "    'block_number': 'block_number',\n",
    "    'tx_input': 'tx_input_data',\n",
    "    'tx_from_address': 'issuer',\n",
    "    'tx_to_address': 'receiver',\n",
    "    'receipt_gas_used': 'gas_used',\n",
    "    'block_timestamp': 'timestamp',\n",
    "    'effective_gas_price': 'gas_effective_price',\n",
    "    'receipt_status': 'tx_status',\n",
    "    'value': 'amount',\n",
    "    'receipt_effective_gas_price': 'gas_effective_price'\n",
    "}\n",
    "\n",
    "collumns_selected = [\n",
    "    'block_number',\n",
    "    'tx_hash',\n",
    "    'tx_input_data',\n",
    "    'issuer',\n",
    "    'receiver',\n",
    "    'timestamp',\n",
    "    'gas_used',\n",
    "    'gas_effective_price',\n",
    "    'fees',\n",
    "    'tx_status',\n",
    "]\n",
    "\n",
    "\n",
    "def rename_columns(df):\n",
    "    df = df.rename(columns=columns_renamed)\n",
    "    if 'gas_effective_price' not in df.columns:\n",
    "        df = df.rename(columns={'gas_price': 'gas_effective_price'})\n",
    "    return df\n",
    "\n",
    "\n",
    "def preprocess_dataframe(df):\n",
    "    df['fees'] = df['gas_used'] * df['gas_effective_price']/1e18\n",
    "    df['timestamp'] = pd.to_datetime(df['timestamp'])\n",
    "    return df\n",
    "\n",
    "\n",
    "def to_polars(df):\n",
    "    return pl.DataFrame._from_pandas(df[collumns_selected], schema=schema)\n",
    "\n",
    "\n",
    "def persitst_to_parquet(df, filepath):\n",
    "    df.write_parquet(filepath, compression=\"gzip\")\n",
    "\n",
    "\n",
    "def decode_input_data(input_data):\n",
    "    if not input_data:\n",
    "        return None\n",
    "    try:\n",
    "        return bytes.fromhex(input_data).decode('utf-8')\n",
    "    except (ValueError, TypeError, UnicodeDecodeError):\n",
    "        return None"
   ]
  },
  {
   "cell_type": "code",
   "execution_count": 6,
   "metadata": {},
   "outputs": [
    {
     "data": {
      "text/plain": [
       "['arbitrum', 'base', 'bsc', 'ethereum', 'fantom', 'optimism', 'zksync']"
      ]
     },
     "execution_count": 6,
     "metadata": {},
     "output_type": "execute_result"
    }
   ],
   "source": [
    "chains_path = os.path.realpath(os.path.join(data_dir, \"chains\")) + os.sep\n",
    "chains = sorted([chain for chain in os.listdir(chains_path)\n",
    "                if os.path.isdir(chains_path+chain)])\n",
    "chains.remove('avalanche')\n",
    "chains"
   ]
  },
  {
   "cell_type": "code",
   "execution_count": 7,
   "metadata": {},
   "outputs": [
    {
     "data": {
      "application/vnd.jupyter.widget-view+json": {
       "model_id": "fcf0ba1ed12f4dbcb31c3952dd28873a",
       "version_major": 2,
       "version_minor": 0
      },
      "text/plain": [
       "  0%|          | 0/7 [00:00<?, ?it/s]"
      ]
     },
     "metadata": {},
     "output_type": "display_data"
    },
    {
     "name": "stdout",
     "output_type": "stream",
     "text": [
      "arbitrum\n",
      "Already processed arbitrum\n",
      "base\n",
      "Already processed base\n",
      "bsc\n",
      "Already processed bsc\n",
      "ethereum\n",
      "Already processed ethereum\n",
      "fantom\n",
      "Already processed fantom\n",
      "optimism\n",
      "Already processed optimism\n",
      "zksync\n",
      "Already processed zksync\n"
     ]
    }
   ],
   "source": [
    "for chain in tqdm(chains):\n",
    "    print(chain)\n",
    "    filenames = [filename for filename in os.listdir(\n",
    "        chains_path + chain) if filename.endswith(\".csv.gz\")]\n",
    "    if os.path.exists(chains_path + chain + \"_inscriptions.parquet\"):\n",
    "        print(\"Already processed\", chain)\n",
    "        continue\n",
    "    dfs = []\n",
    "    for filename in filenames:\n",
    "        filepath = chains_path + chain + os.sep + filename\n",
    "        df = pd.read_csv(filepath)\n",
    "        df = rename_columns(df)\n",
    "        df = preprocess_dataframe(df)\n",
    "        if df.shape[0] > 0:\n",
    "            dfs.append(df)\n",
    "    dfs = pd.concat(dfs)\n",
    "    df_polars = to_polars(dfs)\n",
    "    df_polars = df_polars.with_columns(\n",
    "        pl.col('tx_input_data')\n",
    "        .str.strip_chars(\"0x\")\n",
    "        .map_elements(decode_input_data, return_dtype=pl.Utf8)\n",
    "        .alias(\"decoded_input_data\")\n",
    "    )\n",
    "    # df_polars = df_polars.rename({'tx_input_data': 'decoded_input_data'})\n",
    "    persitst_to_parquet(df_polars, filepath=chains_path +\n",
    "                        chain + \"_inscriptions.parquet\")"
   ]
  }
 ],
 "metadata": {
  "kernelspec": {
   "display_name": "base",
   "language": "python",
   "name": "python3"
  },
  "language_info": {
   "codemirror_mode": {
    "name": "ipython",
    "version": 3
   },
   "file_extension": ".py",
   "mimetype": "text/x-python",
   "name": "python",
   "nbconvert_exporter": "python",
   "pygments_lexer": "ipython3",
   "version": "3.12.9"
  }
 },
 "nbformat": 4,
 "nbformat_minor": 2
}
