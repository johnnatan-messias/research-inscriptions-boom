{
 "cells": [
  {
   "cell_type": "markdown",
   "metadata": {},
   "source": [
    "# Project Inscriptions -- Downloading dataset from our [GitHub repository](https://github.com/johnnatan-messias/research-inscriptions-boom).\n",
    "\n",
    "**[Johnnatan Messias](https://johnnatan-messias.github.io/), February 2025**\n"
   ]
  },
  {
   "cell_type": "code",
   "execution_count": null,
   "metadata": {},
   "outputs": [],
   "source": [
    "import urllib.request as req\n",
    "from tqdm.notebook import tqdm"
   ]
  },
  {
   "cell_type": "code",
   "execution_count": null,
   "metadata": {},
   "outputs": [],
   "source": [
    "import os\n",
    "data_dir = os.path.realpath(os.path.join(os.getcwd(), \"..\", \"data\", \"chains\"))\n",
    "os.makedirs(data_dir, exist_ok=True)"
   ]
  },
  {
   "cell_type": "code",
   "execution_count": null,
   "metadata": {},
   "outputs": [],
   "source": [
    "chains = [\"arbitrum\", \"base\", \"ethereum\", \"optimism\", \"zksync\"]"
   ]
  },
  {
   "cell_type": "code",
   "execution_count": null,
   "metadata": {},
   "outputs": [],
   "source": [
    "def download_file_http(url, local_dir):\n",
    "    try:\n",
    "        # Full path where the file will be saved\n",
    "        filename = url.split(\"/\")[-1]\n",
    "        local_file_path = os.path.join(local_dir, filename)\n",
    "\n",
    "        if os.path.exists(local_file_path):\n",
    "            print(\"The file already exist\", local_file_path)\n",
    "        else:\n",
    "\n",
    "            # Download the file\n",
    "            req.urlretrieve(url, local_file_path)\n",
    "\n",
    "            print(f\"Downloaded {filename} successfully to {local_file_path}\")\n",
    "    except Exception as e:\n",
    "        print(f\"HTTP Download Error: {e}\")"
   ]
  },
  {
   "cell_type": "code",
   "execution_count": null,
   "metadata": {},
   "outputs": [],
   "source": [
    "data_url = \"https://blockchain.mpi-sws.org/datasets/files/inscriptions-boom\"\n",
    "for chain in tqdm(chains, desc=\"Download data set from our server.\"):\n",
    "    file_url = os.path.join(data_url, \"{}_inscriptions.parquet\".format(chain))\n",
    "    download_file_http(url=file_url, local_dir=data_dir)"
   ]
  }
 ],
 "metadata": {
  "kernelspec": {
   "display_name": "base",
   "language": "python",
   "name": "python3"
  },
  "language_info": {
   "codemirror_mode": {
    "name": "ipython",
    "version": 3
   },
   "file_extension": ".py",
   "mimetype": "text/x-python",
   "name": "python",
   "nbconvert_exporter": "python",
   "pygments_lexer": "ipython3",
   "version": "3.12.9"
  }
 },
 "nbformat": 4,
 "nbformat_minor": 2
}
